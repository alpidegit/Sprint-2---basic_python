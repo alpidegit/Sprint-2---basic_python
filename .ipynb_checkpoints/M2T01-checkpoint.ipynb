{
 "cells": [
  {
   "cell_type": "markdown",
   "id": "3963ea70",
   "metadata": {},
   "source": [
    "# Exercici 1\n",
    "## Crea una llista que agrupi els mesos de l’any en trimestres (1T: gener, febrer i març; 2T: abril, maig, juny...), és a dir, una llista amb 4 llistes dins."
   ]
  },
  {
   "cell_type": "markdown",
   "id": "1d339a65",
   "metadata": {},
   "source": [
    "Escojo hacer listas de cada trimestre (para la denominación de los trimestres, pongo Tn, en vez de nT -siendo n el número de trimestre-, porque no se puede empezar por números) y luego unirlas todas en una lista que se llame Año:"
   ]
  },
  {
   "cell_type": "code",
   "execution_count": 1,
   "id": "4a6fe872",
   "metadata": {},
   "outputs": [
    {
     "name": "stdout",
     "output_type": "stream",
     "text": [
      "[['enero', 'febrero', 'marzo'], ['abril', 'mayo', 'junio'], ['julio', 'agosto', 'septiembre'], ['octubre', 'noviembre', 'diciembre']]\n"
     ]
    }
   ],
   "source": [
    "Año = []\n",
    "T1 = [\"enero\", \"febrero\", \"marzo\"]\n",
    "T2 = [\"abril\", \"mayo\", \"junio\"]\n",
    "T3 = [\"julio\", \"agosto\", \"septiembre\"]\n",
    "T4 = [\"octubre\", \"noviembre\", \"diciembre\"]\n",
    "Año.append(T1)\n",
    "Año.append(T2)\n",
    "Año.append(T3)\n",
    "Año.append(T4)\n",
    "print(Año)"
   ]
  },
  {
   "cell_type": "markdown",
   "id": "9b544488",
   "metadata": {},
   "source": [
    "# Exercici 2\n",
    "## Crea un codi que et permeti accedir a:"
   ]
  },
  {
   "cell_type": "markdown",
   "id": "b6406c17",
   "metadata": {},
   "source": [
    "## - El segon mes del primer trimestre."
   ]
  },
  {
   "cell_type": "code",
   "execution_count": 2,
   "id": "b6b13101",
   "metadata": {},
   "outputs": [
    {
     "name": "stdout",
     "output_type": "stream",
     "text": [
      "El segundo mes del primer trimestre es febrero\n"
     ]
    }
   ],
   "source": [
    "print(\"El segundo mes del primer trimestre es\", Año[0][1])"
   ]
  },
  {
   "cell_type": "markdown",
   "id": "3f7657fb",
   "metadata": {},
   "source": [
    "## - Els mesos del primer trimestre."
   ]
  },
  {
   "cell_type": "code",
   "execution_count": 3,
   "id": "2b5557c0",
   "metadata": {},
   "outputs": [
    {
     "name": "stdout",
     "output_type": "stream",
     "text": [
      "Los meses del primer trimestre son ['enero', 'febrero', 'marzo']\n"
     ]
    }
   ],
   "source": [
    "print(\"Los meses del primer trimestre son\", Año[0])"
   ]
  },
  {
   "cell_type": "markdown",
   "id": "918a5773",
   "metadata": {},
   "source": [
    "## - Setembre i octubre."
   ]
  },
  {
   "cell_type": "code",
   "execution_count": 4,
   "id": "1760bf2e",
   "metadata": {},
   "outputs": [
    {
     "name": "stdout",
     "output_type": "stream",
     "text": [
      "Los meses solicitados son septiembre y octubre\n"
     ]
    }
   ],
   "source": [
    "print(\"Los meses solicitados son\", Año[2][2], \"y\", Año[3][0])"
   ]
  },
  {
   "cell_type": "markdown",
   "id": "aaa58d0b",
   "metadata": {},
   "source": [
    "# Exercici 3\n",
    "## Crea una llista amb nombres desordenats i respon a les següents preguntes:"
   ]
  },
  {
   "cell_type": "markdown",
   "id": "f0af3135",
   "metadata": {},
   "source": [
    "Para generar la lista con números desordenados enteros, puedo hacerlo de varias maneras:\n",
    " 1) Con random.sample donde le digo que coja la muestra de p.e 100 números y haga una lista de 10:"
   ]
  },
  {
   "cell_type": "code",
   "execution_count": 5,
   "id": "9b234fc3",
   "metadata": {},
   "outputs": [
    {
     "name": "stdout",
     "output_type": "stream",
     "text": [
      "la lista con números enteros usando random. sample es: [29, 81, 34, 30, 69, 62, 36, 35, 97, 78]\n"
     ]
    }
   ],
   "source": [
    "import random\n",
    "lista_random1 = random.sample(range(100),10)\n",
    "print(\"la lista con números enteros usando random. sample es:\", lista_random1)"
   ]
  },
  {
   "cell_type": "markdown",
   "id": "dd377d90",
   "metadata": {},
   "source": [
    " 2) Con random.randint donde le hago hacer un ciclo for entre un minimo y un máximo usando un rango, en este caso se generan 15 números en el rango de números del 0 al 100 (incluídos):"
   ]
  },
  {
   "cell_type": "code",
   "execution_count": 6,
   "id": "49c73629",
   "metadata": {},
   "outputs": [
    {
     "name": "stdout",
     "output_type": "stream",
     "text": [
      "la lista con números enteros usando random. randint es: [69, 70, 63, 99, 83, 3, 87, 22, 66, 17, 38, 28, 46, 46, 41]\n"
     ]
    }
   ],
   "source": [
    "lista_random2 = [random.randint(0, 100) for x in range(15)]\n",
    "print(\"la lista con números enteros usando random. randint es:\", lista_random2)"
   ]
  },
  {
   "cell_type": "markdown",
   "id": "e4db60a7",
   "metadata": {},
   "source": [
    "### A partir de aquí usaré la primera lista.\n",
    "\n",
    "## - Quants números hi ha?"
   ]
  },
  {
   "cell_type": "code",
   "execution_count": 7,
   "id": "56782ad9",
   "metadata": {},
   "outputs": [
    {
     "name": "stdout",
     "output_type": "stream",
     "text": [
      "La cantidad total de números de la lista es: 10\n"
     ]
    }
   ],
   "source": [
    "print(\"La cantidad total de números de la lista es:\", len(lista_random1))"
   ]
  },
  {
   "cell_type": "markdown",
   "id": "9350fb20",
   "metadata": {},
   "source": [
    "## - Quantes vegades apareix el número 3."
   ]
  },
  {
   "cell_type": "code",
   "execution_count": 8,
   "id": "050877c1",
   "metadata": {},
   "outputs": [
    {
     "name": "stdout",
     "output_type": "stream",
     "text": [
      "El número 3 aparece 0 veces solo\n"
     ]
    }
   ],
   "source": [
    "print(\"El número 3 aparece {} veces solo\" .format(lista_random1.count(3)))"
   ]
  },
  {
   "cell_type": "markdown",
   "id": "200c02a1",
   "metadata": {},
   "source": [
    "Pero si queremos saber cuantas veces aparece el 3 solo o dentro de un número mas grande, tenemos que contar cuantas veces aparece como dígito, y para ello tenemos que convertir los numeros en strigns para poderlos comparar uno a uno contra el 3:"
   ]
  },
  {
   "cell_type": "code",
   "execution_count": 9,
   "id": "f82c3df2",
   "metadata": {},
   "outputs": [
    {
     "name": "stdout",
     "output_type": "stream",
     "text": [
      "El número 3 aparece 4 veces en la lista solo o dentro de otro número\n"
     ]
    }
   ],
   "source": [
    "count = 0\n",
    "for numero in lista_random1:\n",
    "    for digito in str(numero):\n",
    "        if digito == \"3\":\n",
    "            count += 1\n",
    "print(\"El número 3 aparece {} veces en la lista solo o dentro de otro número\".format(count))"
   ]
  },
  {
   "cell_type": "markdown",
   "id": "0e1226cc",
   "metadata": {},
   "source": [
    "## - Quantes vegades apareixen els nombres 3 i 4?"
   ]
  },
  {
   "cell_type": "code",
   "execution_count": 10,
   "id": "7dc22f03",
   "metadata": {},
   "outputs": [
    {
     "name": "stdout",
     "output_type": "stream",
     "text": [
      "El número 3 aparece 0 veces solo y el 4 aparece 0\n"
     ]
    }
   ],
   "source": [
    "print(\"El número 3 aparece {tres} veces solo y el 4 aparece {cuatro}\" .format(tres = lista_random1.count(3), cuatro = lista_random1.count(4)))"
   ]
  },
  {
   "cell_type": "markdown",
   "id": "e8e166aa",
   "metadata": {},
   "source": [
    "Igual que antes, si queremos saber cuantas veces aparecen como dígitos:"
   ]
  },
  {
   "cell_type": "code",
   "execution_count": 11,
   "id": "dd90ed36",
   "metadata": {},
   "outputs": [
    {
     "name": "stdout",
     "output_type": "stream",
     "text": [
      "El número 3 aparece solo o dentro de otro número 0 veces, y el número 4 aparece 0\n"
     ]
    }
   ],
   "source": [
    "count3 = 0\n",
    "count4 = 0\n",
    "for num in lista_random1:\n",
    "    for digit in str(numero):\n",
    "        if digit == \"3\":\n",
    "            count3 += 1\n",
    "        if digit == \"4\":\n",
    "            count4 += 1\n",
    "print(\"El número 3 aparece solo o dentro de otro número {count3} veces, y el número 4 aparece {count4}\".format(count3 = count3, count4 = count4))"
   ]
  },
  {
   "cell_type": "markdown",
   "id": "a3c87371",
   "metadata": {},
   "source": [
    "## - Quin és el número més gran?"
   ]
  },
  {
   "cell_type": "code",
   "execution_count": 12,
   "id": "41d79dcc",
   "metadata": {},
   "outputs": [
    {
     "name": "stdout",
     "output_type": "stream",
     "text": [
      "El número mas alto de la lista es: 97\n"
     ]
    }
   ],
   "source": [
    "print(\"El número mas alto de la lista es:\", max(lista_random1))"
   ]
  },
  {
   "cell_type": "markdown",
   "id": "deca85ac",
   "metadata": {},
   "source": [
    "## - Quins són els 3 números més petits?"
   ]
  },
  {
   "cell_type": "markdown",
   "id": "54bd7016",
   "metadata": {},
   "source": [
    "tenemos dos formas de hacerlo:\n",
    "1) La primera es ordenando el lsitado de números y luego hacer un slizing de los tres primeros:"
   ]
  },
  {
   "cell_type": "code",
   "execution_count": 13,
   "id": "5b6e782b",
   "metadata": {},
   "outputs": [
    {
     "name": "stdout",
     "output_type": "stream",
     "text": [
      "Los tres números más pequeños son: [29, 30, 34]\n"
     ]
    }
   ],
   "source": [
    "lista_ordenada = sorted(lista_random1)\n",
    "tres_min = lista_ordenada[:3]\n",
    "print(\"Los tres números más pequeños son:\", tres_min)"
   ]
  },
  {
   "cell_type": "markdown",
   "id": "8f8937eb",
   "metadata": {},
   "source": [
    "## - Quin és el rang d’aquesta llista?"
   ]
  },
  {
   "cell_type": "markdown",
   "id": "81ad1b68",
   "metadata": {},
   "source": [
    "Entinedo que se refiere a los valores entre los que está la lista, pero también confirmaré la longitud por si acaso, dado que son números aleatorios sin una repetición asociada a range() entre ellos:"
   ]
  },
  {
   "cell_type": "code",
   "execution_count": 14,
   "id": "2ffaf0e7",
   "metadata": {},
   "outputs": [
    {
     "name": "stdout",
     "output_type": "stream",
     "text": [
      "La lista tiene una longitud de 10 números, con el mayor de valor 97 y el mínimo de valor 29 estando todos en un rango de 68 números entre ambos\n"
     ]
    }
   ],
   "source": [
    "minimo = min(lista_random1)\n",
    "maximo = max(lista_random1)\n",
    "cantidad = len(lista_random1)\n",
    "rango = maximo - minimo\n",
    "print(\"La lista tiene una longitud de\", cantidad, \"números, con el mayor de valor\", maximo, \"y el mínimo de valor\", minimo, \"estando todos en un rango de\", rango, \"números entre ambos\")"
   ]
  },
  {
   "cell_type": "markdown",
   "id": "c5b0e39a",
   "metadata": {},
   "source": [
    "# Exercici 4\n",
    "## Crea un diccionari de la següent forma i respon a les preguntes:\n",
    "\n",
    "## compra = { \"Pomes\" : {\"Qty\": 5, \"€\": 0.42}, \"Peres\" : {\"Qty\": 3, \"€\": 0.66} }"
   ]
  },
  {
   "cell_type": "code",
   "execution_count": 15,
   "id": "7f6fff72",
   "metadata": {},
   "outputs": [
    {
     "name": "stdout",
     "output_type": "stream",
     "text": [
      "{'Pomes': {'Qty': 5, '€': 0.42}, 'Peres': {'Qty': 3, '€': 0.66}}\n"
     ]
    }
   ],
   "source": [
    "compra = { \"Pomes\" : {\"Qty\": 5, \"€\": 0.42}, \"Peres\" : {\"Qty\": 3, \"€\": 0.66} }\n",
    "print(compra)"
   ]
  },
  {
   "cell_type": "markdown",
   "id": "05e48ccb",
   "metadata": {},
   "source": [
    "## - Afegeix alguna fruita més"
   ]
  },
  {
   "cell_type": "markdown",
   "id": "7af7ff72",
   "metadata": {},
   "source": [
    "tenemos varias formas:\n",
    "1) Directa:"
   ]
  },
  {
   "cell_type": "code",
   "execution_count": 16,
   "id": "5c6a8d76",
   "metadata": {},
   "outputs": [
    {
     "name": "stdout",
     "output_type": "stream",
     "text": [
      "{'Pomes': {'Qty': 5, '€': 0.42}, 'Peres': {'Qty': 3, '€': 0.66}, 'Platans': {'Qty': 6, '€': 1.45}, 'Maduixes': {'Qty': 5, '€': 5.9}}\n"
     ]
    }
   ],
   "source": [
    "compra[\"Platans\"] = {\"Qty\": 6, \"€\": 1.45}\n",
    "compra[\"Maduixes\"] = {\"Qty\": 5, \"€\": 5.9}\n",
    "print(compra)"
   ]
  },
  {
   "cell_type": "markdown",
   "id": "19cecb83",
   "metadata": {},
   "source": [
    "2) Con update:"
   ]
  },
  {
   "cell_type": "code",
   "execution_count": 17,
   "id": "35e8c3b9",
   "metadata": {},
   "outputs": [
    {
     "name": "stdout",
     "output_type": "stream",
     "text": [
      "{'Pomes': {'Qty': 5, '€': 0.42}, 'Peres': {'Qty': 3, '€': 0.66}, 'Platans': {'Qty': 6, '€': 1.45}, 'Maduixes': {'Qty': 5, '€': 5.9}, 'Taronjas': {'Qty': 4, '€': 2}, 'Llimonas': {'Qty': 3, '€': 1.35}}\n"
     ]
    }
   ],
   "source": [
    "compra.update({\"Taronjas\" : {\"Qty\": 4, \"€\": 2}})\n",
    "compra.update({\"Llimonas\" : {\"Qty\": 3, \"€\": 1.35}})\n",
    "print(compra)"
   ]
  },
  {
   "cell_type": "markdown",
   "id": "dfa7c62d",
   "metadata": {},
   "source": [
    "## - Quant han costat les peres en total?"
   ]
  },
  {
   "cell_type": "code",
   "execution_count": 18,
   "id": "7aa0b667",
   "metadata": {},
   "outputs": [
    {
     "name": "stdout",
     "output_type": "stream",
     "text": [
      "Cantidad de Peras compradas: 3\n",
      "Precio unitario, en euros, de peras: 0.66\n",
      "El coste total en Euros de las Peras compradass es: 1.98\n"
     ]
    }
   ],
   "source": [
    "print(\"Cantidad de Peras compradas:\", compra[\"Peres\"][\"Qty\"])\n",
    "print(\"Precio unitario, en euros, de peras:\", compra[\"Peres\"][\"€\"])\n",
    "print(\"El coste total en Euros de las Peras compradass es:\", compra[\"Peres\"][\"Qty\"]*compra[\"Peres\"][\"€\"])"
   ]
  },
  {
   "cell_type": "markdown",
   "id": "f3a340cc",
   "metadata": {},
   "source": [
    "## - Quantes fruites hem comprat en total?"
   ]
  },
  {
   "cell_type": "markdown",
   "id": "cf74f014",
   "metadata": {},
   "source": [
    "Tengo dos formas de hacerlo:\n",
    "1) Si la lista es corta lo hago a mano sumando cada cantidad como abajo:"
   ]
  },
  {
   "cell_type": "code",
   "execution_count": 19,
   "id": "a22e8237",
   "metadata": {},
   "outputs": [
    {
     "name": "stdout",
     "output_type": "stream",
     "text": [
      "Las piezas de fruta comprada suman un total de: 26\n"
     ]
    }
   ],
   "source": [
    "print(\"Las piezas de fruta comprada suman un total de:\", compra[\"Pomes\"][\"Qty\"]+compra[\"Peres\"][\"Qty\"]+compra[\"Platans\"][\"Qty\"]+compra[\"Maduixes\"][\"Qty\"]+compra[\"Taronjas\"][\"Qty\"]+compra[\"Llimonas\"][\"Qty\"])"
   ]
  },
  {
   "cell_type": "markdown",
   "id": "edb7120a",
   "metadata": {},
   "source": [
    "2) pero suponiendo que es una librería larga y no puedo ir una por una tendría que crear un total que voy incrementando a lo largo del diccionario con el valor correspodiente:"
   ]
  },
  {
   "cell_type": "code",
   "execution_count": 20,
   "id": "0deec351",
   "metadata": {},
   "outputs": [
    {
     "name": "stdout",
     "output_type": "stream",
     "text": [
      "Las piezas de fruta comprada suman un total de: 26\n"
     ]
    }
   ],
   "source": [
    "Cantidad_total = 0\n",
    "for fruta, info in compra.items():\n",
    "    Quantity = info[\"Qty\"]\n",
    "    Cantidad_total += Quantity\n",
    "print(\"Las piezas de fruta comprada suman un total de:\", Cantidad_total)"
   ]
  },
  {
   "cell_type": "markdown",
   "id": "b026b73c",
   "metadata": {},
   "source": [
    "## - Quina és la fruita més cara?"
   ]
  },
  {
   "cell_type": "markdown",
   "id": "5784f9a3",
   "metadata": {},
   "source": [
    "Iteraremos con un for para ir por el coste en euros y el if para comparar precios:"
   ]
  },
  {
   "cell_type": "code",
   "execution_count": 21,
   "id": "b8beb1fa",
   "metadata": {},
   "outputs": [
    {
     "name": "stdout",
     "output_type": "stream",
     "text": [
      "La fruta mas cara es: Maduixes\n",
      "Su precio es de: 5.9\n"
     ]
    }
   ],
   "source": [
    "Fruta_mas_cara = 0\n",
    "Precio_mas_caro = 0\n",
    "for fruta,info in compra.items():\n",
    "    Precio = info[\"€\"]\n",
    "    if Precio > Precio_mas_caro:\n",
    "        Precio_mas_caro = Precio\n",
    "        Fruta_mas_cara = fruta\n",
    "print(\"La fruta mas cara es:\", Fruta_mas_cara)\n",
    "print(\"Su precio es de:\", Precio_mas_caro)"
   ]
  },
  {
   "cell_type": "code",
   "execution_count": null,
   "id": "89dc60d1",
   "metadata": {},
   "outputs": [],
   "source": []
  }
 ],
 "metadata": {
  "kernelspec": {
   "display_name": "Python 3 (ipykernel)",
   "language": "python",
   "name": "python3"
  },
  "language_info": {
   "codemirror_mode": {
    "name": "ipython",
    "version": 3
   },
   "file_extension": ".py",
   "mimetype": "text/x-python",
   "name": "python",
   "nbconvert_exporter": "python",
   "pygments_lexer": "ipython3",
   "version": "3.9.12"
  }
 },
 "nbformat": 4,
 "nbformat_minor": 5
}
