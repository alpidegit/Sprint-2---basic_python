{
 "cells": [
  {
   "cell_type": "markdown",
   "id": "ccef8c5a",
   "metadata": {},
   "source": [
    "# Exercici 1\n",
    "## L'exercici consisteix a crear un programa que et classifiqui una variable numèrica en funció de l’escala Suspès/Aprovat/Notable/Excel·lent.\n",
    "\n",
    "## Recorda que: Suspès < 5, 5 < Aprovat > 7, 7< Notable > 9, Excel·lent > 9"
   ]
  },
  {
   "cell_type": "markdown",
   "id": "7c9ec2f7",
   "metadata": {},
   "source": [
    "### Creo primero un diccionario con las notas de los alumnos, para provar que funciona el programa:"
   ]
  },
  {
   "cell_type": "code",
   "execution_count": 1,
   "id": "c93e5627",
   "metadata": {},
   "outputs": [
    {
     "name": "stdout",
     "output_type": "stream",
     "text": [
      "{'Manuel': 9, 'Juan': 8, 'Antonio': 5, 'Luís': 2, 'Fernando': 7, 'Alberto': 4, 'Alfredo': 1}\n"
     ]
    }
   ],
   "source": [
    "Notas_clase = {\"Manuel\": 9, \"Juan\": 8, \"Antonio\": 5, \"Luís\": 2, \"Fernando\": 7, \"Alberto\": 4, \"Alfredo\": 1}\n",
    "print(Notas_clase)"
   ]
  },
  {
   "cell_type": "code",
   "execution_count": 2,
   "id": "00f41623",
   "metadata": {},
   "outputs": [
    {
     "name": "stdout",
     "output_type": "stream",
     "text": [
      "El alumno Manuel tiene un 9 con lo que ha obtenido un Excelente\n",
      "El alumno Juan tiene un 8 con lo que ha obtenido un Notable\n",
      "El alumno Antonio tiene un 5 con lo que ha obtenido un Aprovado\n",
      "El alumno Luís tiene un 2 con lo que ha obtenido un Suspenso\n",
      "El alumno Fernando tiene un 7 con lo que ha obtenido un Notable\n",
      "El alumno Alberto tiene un 4 con lo que ha obtenido un Suspenso\n",
      "El alumno Alfredo tiene un 1 con lo que ha obtenido un Suspenso\n"
     ]
    }
   ],
   "source": [
    "def evaluación(Notas_clase):\n",
    "    for alumno, nota in Notas_clase.items():\n",
    "        if nota < 5:\n",
    "            print(\"El alumno\", alumno, \"tiene un\", nota, \"con lo que ha obtenido un Suspenso\")\n",
    "        elif nota >= 5 and nota < 7:\n",
    "            print(\"El alumno\", alumno, \"tiene un\", nota, \"con lo que ha obtenido un Aprovado\")\n",
    "        elif nota >=7 and nota < 9:\n",
    "            print(\"El alumno\", alumno, \"tiene un\", nota, \"con lo que ha obtenido un Notable\")\n",
    "        else:\n",
    "            print(\"El alumno\", alumno, \"tiene un\", nota, \"con lo que ha obtenido un Excelente\")\n",
    "\n",
    "evaluación(Notas_clase)"
   ]
  },
  {
   "cell_type": "markdown",
   "id": "5798cd7b",
   "metadata": {},
   "source": [
    "# Exercici 2\n",
    "## Utilitzant el següent tutorial crea un programa que et pregunti dos números. T’ha de mostrar un missatge dient si el primer és més gran, el segon és més gran o són iguals.\n",
    "## [Programiz: Python Input, Output and Import](https://www.programiz.com/python-programming/input-output-import)\n"
   ]
  },
  {
   "cell_type": "code",
   "execution_count": 3,
   "id": "4ffa26b6",
   "metadata": {},
   "outputs": [
    {
     "name": "stdout",
     "output_type": "stream",
     "text": [
      " Dame un número:5\n",
      "Dame otro numero:3.5\n",
      "5.0 es mas grande que 3.5\n"
     ]
    }
   ],
   "source": [
    "def comparador():\n",
    "    numero1 = float(input(\" Dame un número:\"))\n",
    "    numero2 = float(input(\"Dame otro numero:\"))\n",
    "    if numero1 > numero2:\n",
    "        print(numero1, \"es mas grande que\", numero2)\n",
    "    elif numero1 == numero2:\n",
    "        print(\"los dos números son iguales\")\n",
    "    else:\n",
    "        print (numero2, \"es mas grande que\", numero1)\n",
    "comparador()"
   ]
  },
  {
   "cell_type": "markdown",
   "id": "b59c9686",
   "metadata": {},
   "source": [
    "# Exercici 3\n",
    "## Crea un programa que et pregunti el teu nom, i et demani un número. Si el número és 0, hauria de mostrar un missatge d’error. En cas contrari, hauria de mostrar el nom repetit tants cops com indiqui el número. Per exemple, “Joan Joan Joan”."
   ]
  },
  {
   "cell_type": "code",
   "execution_count": 4,
   "id": "422774f0",
   "metadata": {},
   "outputs": [
    {
     "name": "stdout",
     "output_type": "stream",
     "text": [
      "Dame un nombre Pepito\n",
      "¿Cuantas veces quieres repetirlo? 5\n",
      "PepitoPepitoPepitoPepitoPepito\n"
     ]
    }
   ],
   "source": [
    "nombre = input(\"Dame un nombre \")\n",
    "num = int(input(\"¿Cuantas veces quieres repetirlo? \"))\n",
    "if num!=0:\n",
    "    print(nombre * num)\n",
    "else:\n",
    "    print(\"Multiplicate por cero!\")\n"
   ]
  },
  {
   "cell_type": "markdown",
   "id": "933de680",
   "metadata": {},
   "source": [
    "### Si quiero utilizar un for, que parece mas adecuado cuando quiero hacer repeticiones"
   ]
  },
  {
   "cell_type": "code",
   "execution_count": 5,
   "id": "d65ae03a",
   "metadata": {},
   "outputs": [
    {
     "name": "stdout",
     "output_type": "stream",
     "text": [
      "Dame un nombre Juanito\n",
      "¿Cuantas veces quieres repetirlo? 4\n",
      "Juanito\n",
      "Juanito\n",
      "Juanito\n",
      "Juanito\n"
     ]
    }
   ],
   "source": [
    "nombre = input(\"Dame un nombre \")\n",
    "num = int(input(\"¿Cuantas veces quieres repetirlo? \"))\n",
    "if num!=0:\n",
    "    for i in range(num):\n",
    "        print(nombre)\n",
    "else:\n",
    "    print(\"Multiplicate por cero!\")"
   ]
  },
  {
   "cell_type": "markdown",
   "id": "8a9ef9fe",
   "metadata": {},
   "source": [
    "# Exercici 4\n",
    "## Crea un programa que donada una llista qualsevol, et digui si és simètrica o no. Si ho és, que et digui quants elements té."
   ]
  },
  {
   "cell_type": "markdown",
   "id": "984a7ba9",
   "metadata": {},
   "source": [
    "### 1) Podemos hacerlos comparando la lista con ella misma invertida, para ello usamos el slizing en el que construimos: lista [desde las posición cero: hasta la última: pero contando hacia atras en pasos de -1] para compararla con la original:"
   ]
  },
  {
   "cell_type": "code",
   "execution_count": 6,
   "id": "b2ad09e4",
   "metadata": {},
   "outputs": [],
   "source": [
    "def symetria(lista):\n",
    "    if lista == lista[::-1]:\n",
    "        print(\"La lista es simétrica y tiene {} elementos\".format(len(lista)))\n",
    "    else:\n",
    "        print(\"No es simétrica\")"
   ]
  },
  {
   "cell_type": "code",
   "execution_count": 7,
   "id": "1ed70043",
   "metadata": {},
   "outputs": [],
   "source": [
    "lista1 = [1, 2, 3, 4, 4, 3, 2, 1]"
   ]
  },
  {
   "cell_type": "code",
   "execution_count": 8,
   "id": "ebe5d783",
   "metadata": {},
   "outputs": [],
   "source": [
    "lista2 = [\"Lunes\", \"Martes\", 3, 9, \"Miercoles\", \"Jueves\", 14, \"Viernes\"] "
   ]
  },
  {
   "cell_type": "code",
   "execution_count": 9,
   "id": "f0cdcf3c",
   "metadata": {},
   "outputs": [
    {
     "name": "stdout",
     "output_type": "stream",
     "text": [
      "La lista es simétrica y tiene 8 elementos\n"
     ]
    }
   ],
   "source": [
    "symetria(lista1)"
   ]
  },
  {
   "cell_type": "code",
   "execution_count": 10,
   "id": "9eac753d",
   "metadata": {},
   "outputs": [
    {
     "name": "stdout",
     "output_type": "stream",
     "text": [
      "No es simétrica\n"
     ]
    }
   ],
   "source": [
    "symetria(lista2)"
   ]
  },
  {
   "cell_type": "markdown",
   "id": "ade4f0ba",
   "metadata": {},
   "source": [
    "### 2) A pesar de que la forma anterior funciona, vamos a hacerlo tambien iterando a través de ella con un \"for\", dado que el == tengo dudas que pueda comparar todo tipo de elementos. Basicamente compararemos la mitad de los lelementos con la otra mitad, teniendo en cuenta que cuando la lista tiene números impares el valor intermedio es único:"
   ]
  },
  {
   "cell_type": "code",
   "execution_count": 11,
   "id": "2eed905c",
   "metadata": {},
   "outputs": [],
   "source": [
    "def symetria1(lista):\n",
    "    for pos in range(len(lista)//2):\n",
    "        if lista[pos] != lista[len(lista) - pos - 1]:\n",
    "            print(\"La lista no es simétrica\")\n",
    "            return\n",
    "    print(\"La lista es simétrica y tiene {} elementos\".format(len(lista)))"
   ]
  },
  {
   "cell_type": "code",
   "execution_count": 12,
   "id": "e53f7e95",
   "metadata": {},
   "outputs": [
    {
     "name": "stdout",
     "output_type": "stream",
     "text": [
      "La lista es simétrica y tiene 8 elementos\n"
     ]
    }
   ],
   "source": [
    "symetria1(lista1)"
   ]
  },
  {
   "cell_type": "code",
   "execution_count": 13,
   "id": "ff613a9a",
   "metadata": {},
   "outputs": [
    {
     "name": "stdout",
     "output_type": "stream",
     "text": [
      "La lista no es simétrica\n"
     ]
    }
   ],
   "source": [
    "symetria1(lista2)"
   ]
  },
  {
   "cell_type": "markdown",
   "id": "cdb02ff5",
   "metadata": {},
   "source": [
    "### Es imporntate notar que el return esta dentro del if, dado que si encuentra una discrepancia en la comparación debe pararlo y pasar a imprimir que es simétrica, sin embargo el print último esta fuera del if para que no se repita en cada iteración. Podria haberlo escrito al reves analizando igualdades con == en vez de desigualdades con !=, pero lo he hecho así porque el == lo he usado antes."
   ]
  },
  {
   "cell_type": "markdown",
   "id": "1009018b",
   "metadata": {},
   "source": [
    "### 3) Lo he probado con reverse() pero no funciona, al parecer devuelve None, pero con reversed() si que funciona si convertimos en lista el resultado del reversed():"
   ]
  },
  {
   "cell_type": "code",
   "execution_count": 14,
   "id": "39d92646",
   "metadata": {},
   "outputs": [],
   "source": [
    "def symetria2(lista):\n",
    "    if lista == list(reversed(lista)):\n",
    "        print(\"La lista es simétrica y tiene {} elementos\".format(len(lista)))\n",
    "    else:\n",
    "        print(\"La lista no es simétrica\")"
   ]
  },
  {
   "cell_type": "code",
   "execution_count": 15,
   "id": "86021d2b",
   "metadata": {},
   "outputs": [
    {
     "name": "stdout",
     "output_type": "stream",
     "text": [
      "La lista es simétrica y tiene 8 elementos\n"
     ]
    }
   ],
   "source": [
    "symetria2(lista1)"
   ]
  },
  {
   "cell_type": "code",
   "execution_count": 16,
   "id": "37b381cb",
   "metadata": {},
   "outputs": [
    {
     "name": "stdout",
     "output_type": "stream",
     "text": [
      "La lista no es simétrica\n"
     ]
    }
   ],
   "source": [
    "symetria2(lista2)"
   ]
  },
  {
   "cell_type": "markdown",
   "id": "f1f088fc",
   "metadata": {},
   "source": [
    "# Exercici 5\n",
    "## Crea un programa que donada una llista, et digui quants números coincideixen amb la seva posició. Per exemple [3,4,2,0,2,3,6] el 2 i el 6 coincideixen."
   ]
  },
  {
   "cell_type": "code",
   "execution_count": 17,
   "id": "ec9b2dc0",
   "metadata": {},
   "outputs": [],
   "source": [
    "lista3 = [3,4,2,0,2,3,6]"
   ]
  },
  {
   "cell_type": "markdown",
   "id": "5d0aca34",
   "metadata": {},
   "source": [
    "### 1) Resuelto:"
   ]
  },
  {
   "cell_type": "code",
   "execution_count": 18,
   "id": "63465910",
   "metadata": {},
   "outputs": [],
   "source": [
    "def coincid(lista):\n",
    "    num_coincid = []\n",
    "    ind = -1\n",
    "    for num in lista:\n",
    "        ind += 1\n",
    "        if num == ind:\n",
    "            num_coincid.append(num)\n",
    "    \n",
    "    print(\"Los números {} coinciden con su posición en la lista:\".format(num_coincid))"
   ]
  },
  {
   "cell_type": "code",
   "execution_count": 19,
   "id": "06bd7d4e",
   "metadata": {},
   "outputs": [
    {
     "name": "stdout",
     "output_type": "stream",
     "text": [
      "Los números [4] coinciden con su posición en la lista:\n"
     ]
    }
   ],
   "source": [
    "coincid(lista1)"
   ]
  },
  {
   "cell_type": "code",
   "execution_count": 20,
   "id": "63e41be7",
   "metadata": {},
   "outputs": [
    {
     "name": "stdout",
     "output_type": "stream",
     "text": [
      "Los números [] coinciden con su posición en la lista:\n"
     ]
    }
   ],
   "source": [
    "coincid(lista2)"
   ]
  },
  {
   "cell_type": "code",
   "execution_count": 21,
   "id": "692edb13",
   "metadata": {},
   "outputs": [
    {
     "name": "stdout",
     "output_type": "stream",
     "text": [
      "Los números [2, 6] coinciden con su posición en la lista:\n"
     ]
    }
   ],
   "source": [
    "coincid(lista3)"
   ]
  },
  {
   "cell_type": "markdown",
   "id": "0207a3ed",
   "metadata": {},
   "source": [
    "### 2) Añado texto si no coinciden:"
   ]
  },
  {
   "cell_type": "code",
   "execution_count": 22,
   "id": "05d10b1b",
   "metadata": {},
   "outputs": [],
   "source": [
    "def coincid(lista):\n",
    "    num_coincid = []\n",
    "    ind = -1\n",
    "    for num in lista:\n",
    "        ind += 1\n",
    "        if num == ind:\n",
    "            num_coincid.append(num)\n",
    "    if not num_coincid:\n",
    "        print(\"No se han encontrado coincidencias con el índice.\")\n",
    "    else:\n",
    "        print(\"Los números {} coinciden con su posición en la lista.\".format(num_coincid))"
   ]
  },
  {
   "cell_type": "code",
   "execution_count": 23,
   "id": "afc5aa68",
   "metadata": {},
   "outputs": [
    {
     "name": "stdout",
     "output_type": "stream",
     "text": [
      "Los números [4] coinciden con su posición en la lista.\n"
     ]
    }
   ],
   "source": [
    "coincid(lista1)"
   ]
  },
  {
   "cell_type": "code",
   "execution_count": 24,
   "id": "2dee8502",
   "metadata": {},
   "outputs": [
    {
     "name": "stdout",
     "output_type": "stream",
     "text": [
      "No se han encontrado coincidencias con el índice.\n"
     ]
    }
   ],
   "source": [
    "coincid(lista2)"
   ]
  },
  {
   "cell_type": "code",
   "execution_count": 25,
   "id": "3328518d",
   "metadata": {},
   "outputs": [
    {
     "name": "stdout",
     "output_type": "stream",
     "text": [
      "Los números [2, 6] coinciden con su posición en la lista.\n"
     ]
    }
   ],
   "source": [
    "coincid(lista3)"
   ]
  },
  {
   "cell_type": "markdown",
   "id": "fa882f4f",
   "metadata": {},
   "source": [
    "### 3) Voy a utilizar enumerate que crea tuplas [indice, nombre del elemento], y hace msa facil la programación:"
   ]
  },
  {
   "cell_type": "code",
   "execution_count": 26,
   "id": "afcdbb86",
   "metadata": {},
   "outputs": [],
   "source": [
    "def coinciden(lista):\n",
    "    num_coinciden = []\n",
    "    for ind, num in enumerate(lista):\n",
    "        if ind == num:\n",
    "            num_coinciden.append(num)\n",
    "    if not num_coinciden:\n",
    "        print(\"No se han encontrado coincidencias con el índice.\")\n",
    "    else:\n",
    "        print(\"Los números {} coinciden con su posición en la lista.\".format(num_coinciden))"
   ]
  },
  {
   "cell_type": "code",
   "execution_count": 27,
   "id": "a7a18f1b",
   "metadata": {},
   "outputs": [
    {
     "name": "stdout",
     "output_type": "stream",
     "text": [
      "Los números [4] coinciden con su posición en la lista.\n"
     ]
    }
   ],
   "source": [
    "coinciden(lista1)"
   ]
  },
  {
   "cell_type": "code",
   "execution_count": 28,
   "id": "17b3f988",
   "metadata": {},
   "outputs": [
    {
     "name": "stdout",
     "output_type": "stream",
     "text": [
      "No se han encontrado coincidencias con el índice.\n"
     ]
    }
   ],
   "source": [
    "coinciden(lista2)"
   ]
  },
  {
   "cell_type": "code",
   "execution_count": 29,
   "id": "f78ce590",
   "metadata": {
    "scrolled": true
   },
   "outputs": [
    {
     "name": "stdout",
     "output_type": "stream",
     "text": [
      "Los números [2, 6] coinciden con su posición en la lista.\n"
     ]
    }
   ],
   "source": [
    "coinciden(lista3)"
   ]
  },
  {
   "cell_type": "markdown",
   "id": "942d7e0b",
   "metadata": {},
   "source": [
    "### 4) Ahora ademas digo en qué posiciones (es redundante, pero por asegurar que recorre toda la lista):"
   ]
  },
  {
   "cell_type": "code",
   "execution_count": 30,
   "id": "792e717b",
   "metadata": {},
   "outputs": [],
   "source": [
    "def coincidencia(lista):\n",
    "    num_coincidencia = []\n",
    "    indice = []\n",
    "    for ind, num in enumerate(lista):\n",
    "        if ind == num:\n",
    "            num_coincidencia.append(num)\n",
    "            indice.append(ind)\n",
    "    if not num_coincidencia:\n",
    "        print(\"No se han encontrado coincidencias con el índice.\")\n",
    "    else:\n",
    "        print(\"Los números {} coinciden, en la lista, con las posiciónes {} respectivamente.\".format(num_coincidencia, indice))"
   ]
  },
  {
   "cell_type": "code",
   "execution_count": 31,
   "id": "980f5e44",
   "metadata": {},
   "outputs": [
    {
     "name": "stdout",
     "output_type": "stream",
     "text": [
      "Los números [4] coinciden, en la lista, con las posiciónes [4] respectivamente.\n"
     ]
    }
   ],
   "source": [
    "coincidencia(lista1)"
   ]
  },
  {
   "cell_type": "code",
   "execution_count": 32,
   "id": "d49aa564",
   "metadata": {},
   "outputs": [
    {
     "name": "stdout",
     "output_type": "stream",
     "text": [
      "No se han encontrado coincidencias con el índice.\n"
     ]
    }
   ],
   "source": [
    "coincidencia(lista2)"
   ]
  },
  {
   "cell_type": "code",
   "execution_count": 33,
   "id": "214e5b52",
   "metadata": {},
   "outputs": [
    {
     "name": "stdout",
     "output_type": "stream",
     "text": [
      "Los números [2, 6] coinciden, en la lista, con las posiciónes [2, 6] respectivamente.\n"
     ]
    }
   ],
   "source": [
    "coincidencia(lista3)"
   ]
  }
 ],
 "metadata": {
  "kernelspec": {
   "display_name": "Python 3 (ipykernel)",
   "language": "python",
   "name": "python3"
  },
  "language_info": {
   "codemirror_mode": {
    "name": "ipython",
    "version": 3
   },
   "file_extension": ".py",
   "mimetype": "text/x-python",
   "name": "python",
   "nbconvert_exporter": "python",
   "pygments_lexer": "ipython3",
   "version": "3.9.12"
  }
 },
 "nbformat": 4,
 "nbformat_minor": 5
}
